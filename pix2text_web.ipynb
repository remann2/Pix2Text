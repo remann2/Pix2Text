{
 "cells": [
  {
   "cell_type": "code",
   "execution_count": 5,
   "metadata": {},
   "outputs": [],
   "source": [
    "import requests"
   ]
  },
  {
   "cell_type": "code",
   "execution_count": 6,
   "metadata": {},
   "outputs": [],
   "source": [
    "url = 'https://pix2text.zoxi.org/pix2text'\n",
    "image_fp = 'docs/examples/mixed.jpg'\n",
    "data = {\n",
    "    \"image_type\": \"mixed\",  # \"mixed\": Mixed image; \"formula\": Pure formula image; \"text\": Pure text image\n",
    "    \"resized_shape\": 768,  # Effective only when image_type==\"mixed\"\n",
    "    \"embed_sep\": \" $,$ \",  # Effective only when image_type==\"mixed\"\n",
    "    \"isolated_sep\": \"$$\\n, \\n$$\"  # Effective only when image_type==\"mixed\"\n",
    "}\n",
    "files = {\n",
    "    \"image\": (image_fp, open(image_fp, 'rb'))\n",
    "}\n",
    "\n",
    "r = requests.post(url, data=data, files=files)\n",
    "\n"
   ]
  },
  {
   "cell_type": "code",
   "execution_count": 7,
   "metadata": {},
   "outputs": [
    {
     "data": {
      "text/plain": [
       "{'status_code': 200,\n",
       " 'results': [{'position': [[22.0, 24.0],\n",
       "    [1055.0, 24.0],\n",
       "    [1055.0, 61.0],\n",
       "    [22.0, 61.0]],\n",
       "   'type': 'text',\n",
       "   'line_number': 0,\n",
       "   'text': 'sVAE 的训练loss 和VQ-VAE 类似，只是使用了KL距离来让分布尽量分散'},\n",
       "  {'type': 'isolated',\n",
       "   'text': '$$\\n- E_{z \\\\sim q ( z \\\\mid x )} [ \\\\operatorname{l o g} ( p ( x \\\\mid z ) ) ]+K L ( q ( z \\\\mid x ) \\\\Vert p ( z ) ) \\n$$',\n",
       "   'position': [[623.0, 119.0],\n",
       "    [1388.0, 119.0],\n",
       "    [1388.0, 190.0],\n",
       "    [623.0, 190.0]],\n",
       "   'line_number': 1},\n",
       "  {'position': [[20.0, 243.0], [479.0, 243.0], [479.0, 280.0], [20.0, 280.0]],\n",
       "   'type': 'text',\n",
       "   'line_number': 2,\n",
       "   'text': '其中之利用 Gumbel-Softmax从'},\n",
       "  {'type': 'embedding',\n",
       "   'text': ' $z \\\\sim q ( z | x )$ ',\n",
       "   'position': [[479.0, 241.0],\n",
       "    [652.0, 241.0],\n",
       "    [652.0, 283.0],\n",
       "    [479.0, 283.0]],\n",
       "   'line_number': 2},\n",
       "  {'position': [[652.0, 235.0],\n",
       "    [1299.0, 235.0],\n",
       "    [1299.0, 286.0],\n",
       "    [652.0, 286.0]],\n",
       "   'type': 'text',\n",
       "   'line_number': 2,\n",
       "   'text': '中抽样得到，p(z）是个等概率的多项式分布'}]}"
      ]
     },
     "execution_count": 7,
     "metadata": {},
     "output_type": "execute_result"
    }
   ],
   "source": [
    "r.json()"
   ]
  },
  {
   "cell_type": "code",
   "execution_count": null,
   "metadata": {},
   "outputs": [],
   "source": []
  }
 ],
 "metadata": {
  "kernelspec": {
   "display_name": "pix2text",
   "language": "python",
   "name": "python3"
  },
  "language_info": {
   "codemirror_mode": {
    "name": "ipython",
    "version": 3
   },
   "file_extension": ".py",
   "mimetype": "text/x-python",
   "name": "python",
   "nbconvert_exporter": "python",
   "pygments_lexer": "ipython3",
   "version": "3.11.8"
  }
 },
 "nbformat": 4,
 "nbformat_minor": 2
}
